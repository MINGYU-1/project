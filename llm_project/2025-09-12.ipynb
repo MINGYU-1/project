{
 "cells": [
  {
   "cell_type": "code",
   "execution_count": 2,
   "id": "9fb32578",
   "metadata": {},
   "outputs": [
    {
     "name": "stdout",
     "output_type": "stream",
     "text": [
      "3 6\n"
     ]
    }
   ],
   "source": [
    "import openpyxl\n",
    "wb = openpyxl.load_workbook('./sample.xlsx')\n",
    "sheet = wb['Sheet1']\n",
    "print(sheet.max_column,sheet.max_row)"
   ]
  },
  {
   "cell_type": "code",
   "execution_count": 4,
   "id": "7663a542",
   "metadata": {},
   "outputs": [
    {
     "name": "stdout",
     "output_type": "stream",
     "text": [
      "Kei\n",
      "35\n",
      "1234-1234\n",
      "----------\n",
      "Hong\n",
      "26\n",
      "4320-1420\n",
      "----------\n",
      "Kim\n",
      "41\n",
      "1234-5678\n",
      "----------\n",
      "Choi\n",
      "38\n",
      "4023-3411\n",
      "----------\n",
      "Go\n",
      "27\n",
      "1469-4023\n",
      "----------\n"
     ]
    }
   ],
   "source": [
    "import openpyxl\n",
    "for row in sheet.iter_rows(min_row = 2):\n",
    "    for cell in row:\n",
    "        print(cell.value)\n",
    "    print('-' * 10)\n",
    "wb.close()"
   ]
  },
  {
   "cell_type": "code",
   "execution_count": 6,
   "id": "a9d73721",
   "metadata": {},
   "outputs": [
    {
     "name": "stdout",
     "output_type": "stream",
     "text": [
      "[[2 3]\n",
      " [4 5]]\n"
     ]
    }
   ],
   "source": [
    "import numpy as np\n",
    "A = np.array([[1,2],[3,4]])\n",
    "B = np.array([[1,1],[1,1]])\n",
    "C = A + B\n",
    "print(C)"
   ]
  },
  {
   "cell_type": "markdown",
   "id": "7fa1da2a",
   "metadata": {},
   "source": [
    "### pandas는 데이터 분석 및 처리를 위한 필수 라이브러리\n",
    "- 행과 열로 구성된 데이터 객체를 편리하게 관리\n",
    "- 대용량 데이터를 처리하는데 용이\n",
    "- 가공된 데이터를 저장하거나 저장된 파일을 불러와 데이터 객체로 만든다."
   ]
  },
  {
   "cell_type": "code",
   "execution_count": 7,
   "id": "2e5bd20b",
   "metadata": {},
   "outputs": [
    {
     "name": "stdout",
     "output_type": "stream",
     "text": [
      "     이름  나이       전화번호\n",
      "0   Kei  35  1234-1234\n",
      "1  Hong  26  4320-1420\n",
      "2   Kim  41  1234-5678\n",
      "3  Choi  38  4023-3411\n",
      "4    Go  27  1469-4023\n"
     ]
    }
   ],
   "source": [
    "import pandas as pd\n",
    "user_list = pd.read_excel('sample.xlsx',sheet_name = 'Sheet1')\n",
    "print(user_list)"
   ]
  },
  {
   "cell_type": "markdown",
   "id": "ee6f78c3",
   "metadata": {},
   "source": [
    "### 토크나이징 소개\n",
    "- 우리가 일상에서 사용하는 언어 = 자연어\n",
    "- 컴퓨터는 자연어를 직접적으로 이해 X\n",
    "- 자연어 처리 NLP\n",
    "- 챗봇 엔진도 자연어 처리의 한 분야\n",
    "- token의 단위는 토크나이징 방법에 따라 달라질 수 있다.\n",
    "### 한국어 자연어 처리에 많이 사용하는 라이브러리\n",
    "- KoNLPy"
   ]
  },
  {
   "cell_type": "code",
   "execution_count": 2,
   "id": "3a5cf593",
   "metadata": {},
   "outputs": [
    {
     "name": "stdout",
     "output_type": "stream",
     "text": [
      "Collecting konlpy\n",
      "  Downloading konlpy-0.6.0-py2.py3-none-any.whl.metadata (1.9 kB)\n",
      "Collecting JPype1>=0.7.0 (from konlpy)\n",
      "  Downloading jpype1-1.6.0-cp312-cp312-win_amd64.whl.metadata (5.1 kB)\n",
      "Requirement already satisfied: lxml>=4.1.0 in c:\\users\\mingyu\\anaconda3\\lib\\site-packages (from konlpy) (6.0.1)\n",
      "Requirement already satisfied: numpy>=1.6 in c:\\users\\mingyu\\anaconda3\\lib\\site-packages (from konlpy) (1.26.4)\n",
      "Requirement already satisfied: packaging in c:\\users\\mingyu\\anaconda3\\lib\\site-packages (from JPype1>=0.7.0->konlpy) (24.2)\n",
      "Downloading konlpy-0.6.0-py2.py3-none-any.whl (19.4 MB)\n",
      "   ---------------------------------------- 0.0/19.4 MB ? eta -:--:--\n",
      "   --------------------- ------------------ 10.5/19.4 MB 59.4 MB/s eta 0:00:01\n",
      "   ---------------------------------------  19.4/19.4 MB 61.1 MB/s eta 0:00:01\n",
      "   ---------------------------------------- 19.4/19.4 MB 45.4 MB/s eta 0:00:00\n",
      "Downloading jpype1-1.6.0-cp312-cp312-win_amd64.whl (355 kB)\n",
      "Installing collected packages: JPype1, konlpy\n",
      "Successfully installed JPype1-1.6.0 konlpy-0.6.0\n",
      "Note: you may need to restart the kernel to use updated packages.\n"
     ]
    }
   ],
   "source": [
    "%pip install konlpy"
   ]
  },
  {
   "cell_type": "code",
   "execution_count": 6,
   "id": "d43d5caf",
   "metadata": {},
   "outputs": [
    {
     "ename": "JVMNotFoundException",
     "evalue": "No JVM shared library file (jvm.dll) found. Try setting up the JAVA_HOME environment variable properly.",
     "output_type": "error",
     "traceback": [
      "\u001b[1;31m---------------------------------------------------------------------------\u001b[0m",
      "\u001b[1;31mJVMNotFoundException\u001b[0m                      Traceback (most recent call last)",
      "Cell \u001b[1;32mIn[6], line 3\u001b[0m\n\u001b[0;32m      1\u001b[0m \u001b[38;5;28;01mfrom\u001b[39;00m \u001b[38;5;21;01mkonlpy\u001b[39;00m\u001b[38;5;21;01m.\u001b[39;00m\u001b[38;5;21;01mtag\u001b[39;00m \u001b[38;5;28;01mimport\u001b[39;00m Kkma\n\u001b[1;32m----> 3\u001b[0m kkma \u001b[38;5;241m=\u001b[39m Kkma()\n\u001b[0;32m      5\u001b[0m text \u001b[38;5;241m=\u001b[39m \u001b[38;5;124m\"\u001b[39m\u001b[38;5;124m아버지가 방에 들어갑니다.\u001b[39m\u001b[38;5;124m\"\u001b[39m\n\u001b[0;32m      6\u001b[0m morphs \u001b[38;5;241m=\u001b[39m kkma\u001b[38;5;241m.\u001b[39mmorphs(text)\n",
      "File \u001b[1;32mc:\\Users\\mingyu\\anaconda3\\Lib\\site-packages\\konlpy\\tag\\_kkma.py:44\u001b[0m, in \u001b[0;36mKkma.__init__\u001b[1;34m(self, jvmpath, max_heap_size)\u001b[0m\n\u001b[0;32m     42\u001b[0m \u001b[38;5;28;01mdef\u001b[39;00m \u001b[38;5;21m__init__\u001b[39m(\u001b[38;5;28mself\u001b[39m, jvmpath\u001b[38;5;241m=\u001b[39m\u001b[38;5;28;01mNone\u001b[39;00m, max_heap_size\u001b[38;5;241m=\u001b[39m\u001b[38;5;241m1024\u001b[39m):\n\u001b[0;32m     43\u001b[0m     \u001b[38;5;28;01mif\u001b[39;00m \u001b[38;5;129;01mnot\u001b[39;00m jpype\u001b[38;5;241m.\u001b[39misJVMStarted():\n\u001b[1;32m---> 44\u001b[0m         jvm\u001b[38;5;241m.\u001b[39minit_jvm(jvmpath, max_heap_size)\n\u001b[0;32m     46\u001b[0m     kkmaJavaPackage \u001b[38;5;241m=\u001b[39m jpype\u001b[38;5;241m.\u001b[39mJPackage(\u001b[38;5;124m'\u001b[39m\u001b[38;5;124mkr.lucypark.kkma\u001b[39m\u001b[38;5;124m'\u001b[39m)\n\u001b[0;32m     47\u001b[0m     KkmaInterfaceJavaClass \u001b[38;5;241m=\u001b[39m kkmaJavaPackage\u001b[38;5;241m.\u001b[39mKkmaInterface\n",
      "File \u001b[1;32mc:\\Users\\mingyu\\anaconda3\\Lib\\site-packages\\konlpy\\jvm.py:55\u001b[0m, in \u001b[0;36minit_jvm\u001b[1;34m(jvmpath, max_heap_size)\u001b[0m\n\u001b[0;32m     52\u001b[0m args \u001b[38;5;241m=\u001b[39m [javadir, os\u001b[38;5;241m.\u001b[39msep]\n\u001b[0;32m     53\u001b[0m classpath \u001b[38;5;241m=\u001b[39m [f\u001b[38;5;241m.\u001b[39mformat(\u001b[38;5;241m*\u001b[39margs) \u001b[38;5;28;01mfor\u001b[39;00m f \u001b[38;5;129;01min\u001b[39;00m folder_suffix]\n\u001b[1;32m---> 55\u001b[0m jvmpath \u001b[38;5;241m=\u001b[39m jvmpath \u001b[38;5;129;01mor\u001b[39;00m jpype\u001b[38;5;241m.\u001b[39mgetDefaultJVMPath()\n\u001b[0;32m     57\u001b[0m \u001b[38;5;66;03m# NOTE: Temporary patch for Issue #76. Erase when possible.\u001b[39;00m\n\u001b[0;32m     58\u001b[0m \u001b[38;5;28;01mif\u001b[39;00m sys\u001b[38;5;241m.\u001b[39mplatform \u001b[38;5;241m==\u001b[39m \u001b[38;5;124m'\u001b[39m\u001b[38;5;124mdarwin\u001b[39m\u001b[38;5;124m'\u001b[39m\\\n\u001b[0;32m     59\u001b[0m         \u001b[38;5;129;01mand\u001b[39;00m jvmpath\u001b[38;5;241m.\u001b[39mfind(\u001b[38;5;124m'\u001b[39m\u001b[38;5;124m1.8.0\u001b[39m\u001b[38;5;124m'\u001b[39m) \u001b[38;5;241m>\u001b[39m \u001b[38;5;241m0\u001b[39m\\\n\u001b[0;32m     60\u001b[0m         \u001b[38;5;129;01mand\u001b[39;00m jvmpath\u001b[38;5;241m.\u001b[39mendswith(\u001b[38;5;124m'\u001b[39m\u001b[38;5;124mlibjvm.dylib\u001b[39m\u001b[38;5;124m'\u001b[39m):\n",
      "File \u001b[1;32mc:\\Users\\mingyu\\anaconda3\\Lib\\site-packages\\jpype\\_jvmfinder.py:70\u001b[0m, in \u001b[0;36mgetDefaultJVMPath\u001b[1;34m()\u001b[0m\n\u001b[0;32m     68\u001b[0m \u001b[38;5;28;01melse\u001b[39;00m:\n\u001b[0;32m     69\u001b[0m     finder \u001b[38;5;241m=\u001b[39m LinuxJVMFinder()\n\u001b[1;32m---> 70\u001b[0m \u001b[38;5;28;01mreturn\u001b[39;00m finder\u001b[38;5;241m.\u001b[39mget_jvm_path()\n",
      "File \u001b[1;32mc:\\Users\\mingyu\\anaconda3\\Lib\\site-packages\\jpype\\_jvmfinder.py:204\u001b[0m, in \u001b[0;36mJVMFinder.get_jvm_path\u001b[1;34m(self)\u001b[0m\n\u001b[0;32m    202\u001b[0m \u001b[38;5;28;01mif\u001b[39;00m jvm_notsupport_ext \u001b[38;5;129;01mis\u001b[39;00m \u001b[38;5;129;01mnot\u001b[39;00m \u001b[38;5;28;01mNone\u001b[39;00m:\n\u001b[0;32m    203\u001b[0m     \u001b[38;5;28;01mraise\u001b[39;00m jvm_notsupport_ext\n\u001b[1;32m--> 204\u001b[0m \u001b[38;5;28;01mraise\u001b[39;00m JVMNotFoundException(\u001b[38;5;124m\"\u001b[39m\u001b[38;5;124mNo JVM shared library file (\u001b[39m\u001b[38;5;132;01m{0}\u001b[39;00m\u001b[38;5;124m) \u001b[39m\u001b[38;5;124m\"\u001b[39m\n\u001b[0;32m    205\u001b[0m                            \u001b[38;5;124m\"\u001b[39m\u001b[38;5;124mfound. Try setting up the JAVA_HOME \u001b[39m\u001b[38;5;124m\"\u001b[39m\n\u001b[0;32m    206\u001b[0m                            \u001b[38;5;124m\"\u001b[39m\u001b[38;5;124menvironment variable properly.\u001b[39m\u001b[38;5;124m\"\u001b[39m\n\u001b[0;32m    207\u001b[0m                            \u001b[38;5;241m.\u001b[39mformat(\u001b[38;5;28mself\u001b[39m\u001b[38;5;241m.\u001b[39m_libfile))\n",
      "\u001b[1;31mJVMNotFoundException\u001b[0m: No JVM shared library file (jvm.dll) found. Try setting up the JAVA_HOME environment variable properly."
     ]
    }
   ],
   "source": [
    "from konlpy.tag import Kkma\n",
    "\n",
    "kkma = Kkma()\n",
    "\n",
    "text = \"아버지가 방에 들어갑니다.\"\n",
    "morphs = kkma.morphs(text)\n",
    "print(morphs)"
   ]
  },
  {
   "cell_type": "markdown",
   "id": "32481626",
   "metadata": {},
   "source": [
    "### 4.1 임베딩이란?\n",
    "- 컴퓨터는 자연어를 직접적으로 처리 불가능\n",
    "- 컴퓨터는 수치 연산만 가능, 자연어를 숫자나 벡터 형태로 변환\n",
    "- 자연어 처리 분야에서는 임베딩이라고 한다."
   ]
  },
  {
   "cell_type": "markdown",
   "id": "530a3bef",
   "metadata": {},
   "source": [
    "### 4.2 단어 임베딩\n",
    "- 단어 임베딩은 말뭉치에서 각각의 단어를 벡터로 변환"
   ]
  },
  {
   "cell_type": "code",
   "execution_count": 2,
   "id": "7a5fb8e7",
   "metadata": {},
   "outputs": [
    {
     "name": "stdout",
     "output_type": "stream",
     "text": [
      "Note: you may need to restart the kernel to use updated packages.\n"
     ]
    }
   ],
   "source": [
    "%pip install -q konlpy"
   ]
  },
  {
   "cell_type": "code",
   "execution_count": 17,
   "id": "f6a70847",
   "metadata": {},
   "outputs": [
    {
     "data": {
      "text/plain": [
       "True"
      ]
     },
     "execution_count": 17,
     "metadata": {},
     "output_type": "execute_result"
    }
   ],
   "source": [
    "from dotenv import load_dotenv\n",
    "load_dotenv()"
   ]
  },
  {
   "cell_type": "code",
   "execution_count": 19,
   "id": "b9656e3d",
   "metadata": {},
   "outputs": [],
   "source": [
    "jvmpath = r\"C:\\Program Files\\Eclipse Adoptium\\jdk-21.0.8.9-hotspot\\bin\\server\\jvm.dll\""
   ]
  },
  {
   "cell_type": "code",
   "execution_count": 20,
   "id": "78d07dfe",
   "metadata": {},
   "outputs": [],
   "source": [
    "from konlpy.tag import Komoran\n",
    "komoran = Komoran(jvmpath)\n"
   ]
  },
  {
   "cell_type": "code",
   "execution_count": 21,
   "id": "1b3badb4",
   "metadata": {},
   "outputs": [
    {
     "name": "stdout",
     "output_type": "stream",
     "text": [
      "['오늘', '날씨', '구름']\n",
      "{'오늘': 0, '날씨': 1, '구름': 2}\n",
      "[[1. 0. 0.]\n",
      " [0. 1. 0.]\n",
      " [0. 0. 1.]]\n"
     ]
    }
   ],
   "source": [
    "from konlpy.tag import Komoran\n",
    "import numpy as np\n",
    "komoran = Komoran()\n",
    "text = '오늘 날씨는 구름이 많아요.'\n",
    "\n",
    "# 명사만 추출\n",
    "nouns = komoran.nouns(text)\n",
    "print(nouns)\n",
    "\n",
    "dics = {}\n",
    "for word in nouns:\n",
    "    if word not in dics.keys():\n",
    "        dics[word] = len(dics)\n",
    "print(dics)\n",
    "\n",
    "nb_classes = len(dics)\n",
    "targets = list(dics.values())\n",
    "one_hot_targets = np.eye(nb_classes)[targets]\n",
    "print(one_hot_targets)"
   ]
  },
  {
   "cell_type": "markdown",
   "id": "d05d65a5",
   "metadata": {},
   "source": [
    "## 4.2.2 희소 표현과 분산 표현\n",
    "- 앞서 소개한 원-핫 인코딩은 표현하고자 하는 단어의 인덱스 요소만 1이고 나머지 요소는 모두 0으로 표현되는 희소 벡터(또는 희소 행렬)입니다. \n",
    "- 이처럼 단어가 희소 벡터로 표현되는 방식을 희소 표현이라 부릅니다. \n",
    "## 자연어 처리를 잘하기 위해서는 기본 토큰이 되는 단어의 의미와 주변 단어 간의 관계가 단어 임배팅에 표현\n",
    "- 각 단어 간의 유사성을 잘 표현하면서도 벡터 공간을 절약할 수 있는 방법을 고안\n",
    "- 분산 표현이라고 한다.\n",
    "- NOTE_: 이를 쉽게 하기 위해 분산 표현으로 RGB 색상을 예로 들었지만 신경망 모델에서의 분산 표현은 사람이 직관적으로 이해하기 어렵다."
   ]
  },
  {
   "cell_type": "markdown",
   "id": "e2d17acc",
   "metadata": {},
   "source": [
    "### 희소 표현 방식에 비해 분산 표현 방식은 2가지 장점을 가진다.\n",
    "1. 임베딩 벡터의 차원을 데이터 손실을 최소화\n",
    "- 희소 표현 방식은 단어를 표현하는데 너무 많은 자원이 필요\n",
    "1. 임베딩 벡터에는 단어의 의미, 주변 단어간의 관계 등 많은 정보가 내포되어 있어 일반화 능력이 뛰어나다.\n"
   ]
  },
  {
   "cell_type": "markdown",
   "id": "55606a22",
   "metadata": {},
   "source": [
    "### 5.1 텍스트 유사도 개요\n",
    "- 자연어 처리에서 문장 간에 의미가 얼마나 유사한지 계산하는 일은 매우 중요\n",
    "- 우리는 의식하진 않지만 두 개의 문장에 동일한 단어나 의미상 비슷한 단어들이 얼마나 분포되어 있는지 직감적으로 파악\n",
    "- 컴퓨터도 동일한 방법으로 두 문장 간의 유사도를 계산\n",
    "### FAQ에 응대하는 Q&A 챗봇 개발\n",
    "- 챗봇 엔진에 입력되는 문장과 시스템에서 해당 주제의 답변과 연관된 질문이 얼마나 유사한지 게산\n",
    "- 적절한 답변을 출력할 수 있다.\n",
    "-> 두 문장 간의 유사도를 계산하기 위해서는 문장 내에 존재하는 단어들을 수치화해야한다.\n",
    "## 통계적인 방법을 이용하여 유사도를 계산하는 방법을 살펴본다.\n",
    "- 통계적인 방식이 더 적절, 개발하려는 챗봇의 주제에 따라 사용하면 챗봇 엔진 성능 향상에 도움 "
   ]
  },
  {
   "cell_type": "markdown",
   "id": "29715f30",
   "metadata": {},
   "source": [
    "## 5.2 n-gram 유사도\n",
    "- n-gram은 주어진 문장에서 n개의 연속적인 단어 시퀀스를 의미한다. \n",
    "- 이는 이웃한 단어의 출현 횟수를 통계적으로 표현해 텍스트의 유사도를 계산하는 방법\n",
    "- "
   ]
  },
  {
   "cell_type": "code",
   "execution_count": 32,
   "id": "801c9b42",
   "metadata": {},
   "outputs": [
    {
     "name": "stdout",
     "output_type": "stream",
     "text": [
      "(('6월', '뉴턴'), ('뉴턴', '선생님'), ('선생님', '제안'), ('제안', '트리니티'), ('트리니티', '입학'), ('입학',))\n",
      "(('6월', '뉴턴'), ('뉴턴', '선생님'), ('선생님', '제안'), ('제안', '대학교'), ('대학교', '입학'), ('입학',))\n",
      "0.6666666666666666\n",
      "0.0\n"
     ]
    }
   ],
   "source": [
    "from konlpy.tag import Komoran\n",
    "komoran = Komoran(jvmpath)\n",
    "def word_ngram(bow, num_gram):\n",
    "    text = tuple(bow)\n",
    "    ngrams = [text[x:x+num_gram] for x in range(0,len(text))]\n",
    "    return tuple(ngrams)\n",
    "def similarity(doc1, doc2):\n",
    "    cnt = 0 \n",
    "    for token in doc1:\n",
    "        if token in doc2:\n",
    "            cnt +=1\n",
    "    return cnt/len(doc1)\n",
    "\n",
    "sentence1 = '6월에 뉴턴은 선생님의 제안으로 트리니티에 입학했다.'\n",
    "sentence2 = '6월에 뉴턴은 선생님의 제안으로 대학교에 입학했다.'\n",
    "sentence3 = '나는 맛있는 밥을 뉴턴 선생님과 함께 먹었다.'\n",
    "bow1 = komoran.nouns(sentence1)\n",
    "bow2 =komoran.nouns(sentence2)\n",
    "bow3 = komoran.nouns(sentence3)\n",
    "doc1 = word_ngram(bow1,2)\n",
    "doc2 = word_ngram(bow2, 2)\n",
    "doc3 = word_ngram(bow3, 2)\n",
    "print(doc1)\n",
    "print(doc2)\n",
    "\n",
    "r1 = similarity(doc1, doc2)\n",
    "r2 =similarity(doc3, doc1)\n",
    "print(r1)\n",
    "print(r2)"
   ]
  },
  {
   "cell_type": "code",
   "execution_count": null,
   "id": "41df1bfb",
   "metadata": {},
   "outputs": [],
   "source": []
  }
 ],
 "metadata": {
  "kernelspec": {
   "display_name": "Python 3",
   "language": "python",
   "name": "python3"
  },
  "language_info": {
   "codemirror_mode": {
    "name": "ipython",
    "version": 3
   },
   "file_extension": ".py",
   "mimetype": "text/x-python",
   "name": "python",
   "nbconvert_exporter": "python",
   "pygments_lexer": "ipython3",
   "version": "3.13.2"
  }
 },
 "nbformat": 4,
 "nbformat_minor": 5
}
