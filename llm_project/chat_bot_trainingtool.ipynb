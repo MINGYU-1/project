{
 "cells": [
  {
   "cell_type": "code",
   "execution_count": null,
   "id": "8e176fcc",
   "metadata": {},
   "outputs": [],
   "source": []
  },
  {
   "cell_type": "code",
   "execution_count": null,
   "id": "518ef490",
   "metadata": {},
   "outputs": [],
   "source": [
    "import mysql.connector\n",
    "import os\n",
    "from dotenv import load_dotenv\n",
    "\n",
    "# .env 파일에서 환경 변수를 불러옵니다.\n",
    "load_dotenv()\n",
    "\n",
    "# os.getenv()를 사용해 .env 파일에 저장된 비밀번호를 가져옵니다.\n",
    "db_password = os.getenv('DB_PASSWORD')\n",
    "\n",
    "\n",
    "mydb = mysql.connector.connect(\n",
    "      host='localhost',\n",
    "      user='root',\n",
    "      password=db_password,  # .env 파일에서 불러온 비밀번호 변수 사용\n",
    "      db = 'mysql')\n"
   ]
  },
  {
   "cell_type": "code",
   "execution_count": null,
   "id": "90051339",
   "metadata": {},
   "outputs": [],
   "source": [
    "sql = '''\n",
    "CREATE TABLE tb_student(\n",
    "    id int primary key auto_increment not null,\n",
    "    name varchar(32),\n",
    "    age int,\n",
    "    address varchar(32)\n",
    ") ENGINE = InnoDB DEFAULT CHARSET = utf8\n",
    "'''\n",
    "with mydb.cursor() as cursor:\n",
    "    cursor.execute(sql)\n",
    "\n"
   ]
  },
  {
   "cell_type": "code",
   "execution_count": 25,
   "id": "98280f5e",
   "metadata": {},
   "outputs": [
    {
     "name": "stdout",
     "output_type": "stream",
     "text": [
      "삽입된 id: 1\n",
      "삽입된 행 수: 3\n",
      "(1, '홍길동', 24, '서울시 중구')\n",
      "(2, '김민수', 22, '서울')\n",
      "(3, '이영희', 23, '부산')\n",
      "(4, '박준호', 21, '대구')\n"
     ]
    }
   ],
   "source": [
    "# mydb는 이미 연결된 상태라고 가정합니다.\n",
    "# (autocommit=False면, 아래처럼 commit()을 반드시 호출해야 반영됩니다.)\n",
    "\n",
    "# 1) 단건 삽입\n",
    "insert_sql = \"INSERT INTO tb_student (name, age, address) VALUES (%s, %s, %s)\"\n",
    "one = (\"홍길동\", 24, \"서울시 중구\")\n",
    "with mydb.cursor() as cur:\n",
    "    cur.execute(insert_sql, one)\n",
    "    mydb.commit()  # autocommit=False인 경우 필수\n",
    "    print(\"삽입된 id:\", cur.lastrowid)\n",
    "\n",
    "# 2) 다건 삽입\n",
    "many = [\n",
    "    (\"김민수\", 22, \"서울\"),\n",
    "    (\"이영희\", 23, \"부산\"),\n",
    "    (\"박준호\", 21, \"대구\"),\n",
    "]\n",
    "with mydb.cursor() as cur:\n",
    "    cur.executemany(insert_sql, many)\n",
    "    mydb.commit()\n",
    "    print(\"삽입된 행 수:\", cur.rowcount)\n",
    "\n",
    "# 3) 삽입 확인 (파이썬에서 즉시 조회)\n",
    "with mydb.cursor() as cur:\n",
    "    cur.execute(\"SELECT id, name, age, address FROM tb_student ORDER BY id\")\n",
    "    for row in cur.fetchall():\n",
    "        print(row)\n"
   ]
  },
  {
   "cell_type": "code",
   "execution_count": null,
   "id": "d9f02e51",
   "metadata": {},
   "outputs": [],
   "source": [
    "#"
   ]
  },
  {
   "cell_type": "code",
   "execution_count": null,
   "id": "400a773f",
   "metadata": {},
   "outputs": [],
   "source": []
  }
 ],
 "metadata": {
  "kernelspec": {
   "display_name": "Python 3",
   "language": "python",
   "name": "python3"
  },
  "language_info": {
   "codemirror_mode": {
    "name": "ipython",
    "version": 3
   },
   "file_extension": ".py",
   "mimetype": "text/x-python",
   "name": "python",
   "nbconvert_exporter": "python",
   "pygments_lexer": "ipython3",
   "version": "3.13.2"
  }
 },
 "nbformat": 4,
 "nbformat_minor": 5
}
