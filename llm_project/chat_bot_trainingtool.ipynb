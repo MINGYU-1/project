{
 "cells": [
  {
   "cell_type": "code",
   "execution_count": null,
   "id": "8e176fcc",
   "metadata": {},
   "outputs": [],
   "source": []
  },
  {
   "cell_type": "code",
   "execution_count": null,
   "id": "518ef490",
   "metadata": {},
   "outputs": [],
   "source": [
    "import mysql.connector\n",
    "import os\n",
    "from dotenv import load_dotenv\n",
    "\n",
    "# .env 파일에서 환경 변수를 불러옵니다.\n",
    "load_dotenv()\n",
    "\n",
    "# os.getenv()를 사용해 .env 파일에 저장된 비밀번호를 가져옵니다.\n",
    "db_password = os.getenv('DB_PASSWORD')\n",
    "\n",
    "\n",
    "mydb = mysql.connector.connect(\n",
    "      host='localhost',\n",
    "      user='root',\n",
    "      password=db_password,  # .env 파일에서 불러온 비밀번호 변수 사용\n",
    "      db = 'mysql')\n",
    "      "
   ]
  },
  {
   "cell_type": "code",
   "execution_count": 27,
   "id": "71232503",
   "metadata": {},
   "outputs": [],
   "source": [
    "import mysql.connector as mc\n",
    "\n",
    "# 1) DB 없이 연결\n",
    "mydb = mc.connect(\n",
    "    host='127.0.0.1', port=3306,\n",
    "    user='root',\n",
    "    password=db_password,\n",
    "    autocommit=True\n",
    ")\n",
    "\n",
    "with mydb.cursor() as cur:\n",
    "    # 2) 데이터베이스 생성\n",
    "    cur.execute(\"\"\"\n",
    "        CREATE DATABASE IF NOT EXISTS data\n",
    "        DEFAULT CHARACTER SET utf8mb4\n",
    "        COLLATE utf8mb4_unicode_ci\n",
    "    \"\"\")\n",
    "    # 3) 선택\n",
    "    cur.execute(\"USE data\")\n",
    "    # 4) 테이블 생성\n",
    "    cur.execute(\"\"\"\n",
    "        CREATE TABLE IF NOT EXISTS tb_student(\n",
    "            id INT NOT NULL AUTO_INCREMENT PRIMARY KEY,\n",
    "            name VARCHAR(32),\n",
    "            age INT,\n",
    "            address VARCHAR(64)\n",
    "        ) ENGINE=InnoDB DEFAULT CHARSET=utf8mb4\n",
    "    \"\"\")\n",
    "\n",
    "# 5) (권장) 데이터베이스를 명시해 재연결\n",
    "mydb1 = mc.connect(\n",
    "    host='127.0.0.1', port=3306,\n",
    "    user='root',\n",
    "    password=db_password,\n",
    "    database='data',\n",
    "    autocommit=True\n",
    ")\n"
   ]
  },
  {
   "cell_type": "code",
   "execution_count": null,
   "id": "90051339",
   "metadata": {},
   "outputs": [],
   "source": [
    "sql = '''\n",
    "CREATE TABLE tb_student(\n",
    "    id int primary key auto_increment not null,\n",
    "    name varchar(32),\n",
    "    age int,\n",
    "    address varchar(32)\n",
    ") ENGINE = InnoDB DEFAULT CHARSET = utf8\n",
    "'''\n",
    "with mydb.cursor() as cursor:\n",
    "    cursor.execute(sql)\n",
    "\n"
   ]
  },
  {
   "cell_type": "markdown",
   "id": "16d90d02",
   "metadata": {},
   "source": [
    "DB_HOST, DB_USER, DB-NAME 이런거 확인해서 DatabaseConfig()만들려는 방법좀 알려줘"
   ]
  },
  {
   "cell_type": "code",
   "execution_count": 25,
   "id": "98280f5e",
   "metadata": {},
   "outputs": [
    {
     "name": "stdout",
     "output_type": "stream",
     "text": [
      "삽입된 id: 1\n",
      "삽입된 행 수: 3\n",
      "(1, '홍길동', 24, '서울시 중구')\n",
      "(2, '김민수', 22, '서울')\n",
      "(3, '이영희', 23, '부산')\n",
      "(4, '박준호', 21, '대구')\n"
     ]
    }
   ],
   "source": [
    "# mydb는 이미 연결된 상태라고 가정합니다.\n",
    "# (autocommit=False면, 아래처럼 commit()을 반드시 호출해야 반영됩니다.)\n",
    "\n",
    "# 1) 단건 삽입\n",
    "insert_sql = \"INSERT INTO tb_student (name, age, address) VALUES (%s, %s, %s)\"\n",
    "one = (\"홍길동\", 24, \"서울시 중구\")\n",
    "with mydb.cursor() as cur:\n",
    "    cur.execute(insert_sql, one)\n",
    "    mydb.commit()  # autocommit=False인 경우 필수\n",
    "    print(\"삽입된 id:\", cur.lastrowid)\n",
    "\n",
    "# 2) 다건 삽입\n",
    "many = [\n",
    "    (\"김민수\", 22, \"서울\"),\n",
    "    (\"이영희\", 23, \"부산\"),\n",
    "    (\"박준호\", 21, \"대구\"),\n",
    "]\n",
    "with mydb.cursor() as cur:\n",
    "    cur.executemany(insert_sql, many)\n",
    "    mydb.commit()\n",
    "    print(\"삽입된 행 수:\", cur.rowcount)\n",
    "\n",
    "# 3) 삽입 확인 (파이썬에서 즉시 조회)\n",
    "with mydb.cursor() as cur:\n",
    "    cur.execute(\"SELECT id, name, age, address FROM tb_student ORDER BY id\")\n",
    "    for row in cur.fetchall():\n",
    "        print(row)\n"
   ]
  },
  {
   "cell_type": "markdown",
   "id": "dacc23df",
   "metadata": {},
   "source": [
    "### 7.3 챗봇 학습툴 만들기\n",
    "- 챗봇의 학습 데이터를 관리하는 툴\n",
    "### 7.3.1 프로젝트 구조\n",
    "- 이 절부터는 실습을 통해 챗봇 기능을 하나하나 만들어나간다.\n",
    "- 소스 코드가 계속해서 이어지며, 경우에 따라서는 일부 소스만 보여줄 수 있다.\n",
    "### 7.3.2 학습용 데이터베이스 설계 및 데이터 테이블 생성\n",
    "- 이 절에서는 챗봇 엔진 답변 처리 과정에서 필요한 DB 구조를 설계\n",
    "- 학습할 수 있는 툴을 만든다.\n"
   ]
  },
  {
   "cell_type": "code",
   "execution_count": 28,
   "id": "55c2ca5c",
   "metadata": {},
   "outputs": [
    {
     "name": "stdout",
     "output_type": "stream",
     "text": [
      "Collecting config\n",
      "  Downloading config-0.5.1-py2.py3-none-any.whl.metadata (1.4 kB)\n",
      "Downloading config-0.5.1-py2.py3-none-any.whl (20 kB)\n",
      "Installing collected packages: config\n",
      "Successfully installed config-0.5.1\n",
      "Note: you may need to restart the kernel to use updated packages.\n"
     ]
    }
   ],
   "source": [
    "%pip install config"
   ]
  },
  {
   "cell_type": "code",
   "execution_count": null,
   "id": "d9f02e51",
   "metadata": {},
   "outputs": [
    {
     "ename": "ModuleNotFoundError",
     "evalue": "No module named 'config.DatabaseConfig'",
     "output_type": "error",
     "traceback": [
      "\u001b[31m---------------------------------------------------------------------------\u001b[39m",
      "\u001b[31mModuleNotFoundError\u001b[39m                       Traceback (most recent call last)",
      "\u001b[36mCell\u001b[39m\u001b[36m \u001b[39m\u001b[32mIn[29]\u001b[39m\u001b[32m, line 4\u001b[39m\n\u001b[32m      1\u001b[39m \u001b[38;5;28;01mimport\u001b[39;00m\u001b[38;5;250m \u001b[39m\u001b[34;01mpymysql\u001b[39;00m\n\u001b[32m      2\u001b[39m \u001b[38;5;28;01mimport\u001b[39;00m\u001b[38;5;250m \u001b[39m\u001b[34;01mopenpyxl\u001b[39;00m\n\u001b[32m----> \u001b[39m\u001b[32m4\u001b[39m \u001b[38;5;28;01mfrom\u001b[39;00m\u001b[38;5;250m \u001b[39m\u001b[34;01mconfig\u001b[39;00m\u001b[34;01m.\u001b[39;00m\u001b[34;01mDatabaseConfig\u001b[39;00m\u001b[38;5;250m \u001b[39m\u001b[38;5;28;01mimport\u001b[39;00m *\n",
      "\u001b[31mModuleNotFoundError\u001b[39m: No module named 'config.DatabaseConfig'"
     ]
    }
   ],
   "source": [
    "import pymysql\n",
    "import openpyxl\n",
    "\n",
    "from config.DatabaseConfig import *\n",
    "def all_clear_train_data(db):\n",
    "    # 기존 학습 데이터 삭제\n",
    "    sql = '''\n",
    "        delete from chatbot_train_data\n",
    "'''\n",
    "with db.cursor() as cursor:\n",
    "    cursor.execute(sql)\n",
    "\n"
   ]
  },
  {
   "cell_type": "code",
   "execution_count": null,
   "id": "e334e3a2",
   "metadata": {},
   "outputs": [],
   "source": [
    "from konlpy.tag import Komoran\n",
    "class Preprocess:\n",
    "    def __init__(self, userdic = None):\n",
    "        self.komoran (userdic = userdic)\n",
    "\n",
    "        # 제외할 품사\n",
    "        #  참조:\n",
    "        # 관계언 제거, 기호 제거\n",
    "        # 접미사 제거\n",
    "        self.exclusion_tags = [\n",
    "            'JKS','JKC','JKG','JKO'\n",
    "        ]"
   ]
  },
  {
   "cell_type": "markdown",
   "id": "3a598eab",
   "metadata": {},
   "source": [
    "### 8.8.1 통신 프로토콜 정의\n",
    "- 우선 챗봇 엔진 서버와 통신하기 위해 프로토콜부터 정의\n",
    "- 프로토콜이란 서버와 클라이언트 간에 통신을 하기 위해 필요한 규약\n",
    "### 8.8.2 다중 접속을 위한 TCP 소켓 서버\n",
    "- 싱글 스레드 방식\n",
    "- 싱글 스레드로는 다수의 챗봇 클라이언트 서비스 요청을 한번에 처리할 수 없다. "
   ]
  },
  {
   "cell_type": "code",
   "execution_count": null,
   "id": "1f30ab36",
   "metadata": {},
   "outputs": [],
   "source": []
  }
 ],
 "metadata": {
  "kernelspec": {
   "display_name": "Python 3",
   "language": "python",
   "name": "python3"
  },
  "language_info": {
   "codemirror_mode": {
    "name": "ipython",
    "version": 3
   },
   "file_extension": ".py",
   "mimetype": "text/x-python",
   "name": "python",
   "nbconvert_exporter": "python",
   "pygments_lexer": "ipython3",
   "version": "3.13.2"
  }
 },
 "nbformat": 4,
 "nbformat_minor": 5
}
