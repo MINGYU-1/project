{
 "cells": [
  {
   "cell_type": "code",
   "execution_count": null,
   "id": "184518c4",
   "metadata": {},
   "outputs": [
    {
     "name": "stdout",
     "output_type": "stream",
     "text": [
      " * Serving Flask app '__main__'\n",
      " * Debug mode: on\n"
     ]
    },
    {
     "name": "stderr",
     "output_type": "stream",
     "text": [
      "WARNING: This is a development server. Do not use it in a production deployment. Use a production WSGI server instead.\n",
      " * Running on all addresses (0.0.0.0)\n",
      " * Running on http://127.0.0.1:80\n",
      " * Running on http://172.33.97.89:80\n",
      "Press CTRL+C to quit\n",
      " * Restarting with stat\n"
     ]
    },
    {
     "ename": "SystemExit",
     "evalue": "1",
     "output_type": "error",
     "traceback": [
      "An exception has occurred, use %tb to see the full traceback.\n",
      "\u001b[31mSystemExit\u001b[39m\u001b[31m:\u001b[39m 1\n"
     ]
    },
    {
     "name": "stderr",
     "output_type": "stream",
     "text": [
      "c:\\Users\\mingyu\\AppData\\Local\\Programs\\Python\\Python313\\Lib\\site-packages\\IPython\\core\\interactiveshell.py:3707: UserWarning: To exit: use 'exit', 'quit', or Ctrl-D.\n",
      "  warn(\"To exit: use 'exit', 'quit', or Ctrl-D.\", stacklevel=1)\n"
     ]
    }
   ],
   "source": [
    "from flask import Flask, jsonify, request\n",
    "import requests, sys, json\n",
    "from dotenv import load_dotenv\n",
    "application = Flask(__name__)\n",
    "a = {}\n",
    "\n",
    "@application.route(\"/webhook/\", methods=[\"POST\"])\n",
    "def webhook():\n",
    "    global a\n",
    "    request_data = json.loads(request.get_data(), encoding='utf-8')\n",
    "    a[request_data['user']] = request_data['result']['choices'][0]['message']['content']\n",
    "    return 'OK'\n",
    "\n",
    "@application.route(\"/question\", methods=[\"POST\"])\n",
    "def get_question():\n",
    "    global a\n",
    "    request_data = json.loads(request.get_data(), encoding='utf-8')\n",
    "    response = { \"version\": \"2.0\", \"template\": { \"outputs\": [{\n",
    "        \"simpleText\": {\"text\": f\"질문을 받았습니다. AI에게 물어보고 올께요!: {request_data['action']['params']['question']}\"}\n",
    "    }]}}\n",
    "    a[request_data['userRequest']['user']['id']] = '아직 AI가 처리중이에요'\n",
    "    try:\n",
    "        api = requests.post('https://api.asyncia.com/v1/api/request/', json={\n",
    "            \"apikey\": \"<OpenAI API KEY>\",\n",
    "            \"messages\" :[{\"role\": \"user\", \"content\": request_data['action']['params']['question']}],\n",
    "            \"userdata\": [[\"user\", request_data['userRequest']['user']['id']]]},\n",
    "            headers={\"apikey\":\"<Asyncia API KEY>\"}, timeout=0.3)\n",
    "    except requests.exceptions.ReadTimeout:\n",
    "        pass\n",
    "    return jsonify(response)\n",
    "\n",
    "@application.route(\"/ans\", methods=[\"POST\"])\n",
    "def hello2():\n",
    "    request_data = json.loads(request.get_data(), encoding='utf-8')\n",
    "    response = { \"version\": \"2.0\", \"template\": { \"outputs\": [{\n",
    "        \"simpleText\": {\"text\": f\"답변: {a.get(request_data['userRequest']['user']['id'], '질문을 하신적이 없어보여요. 질문부터 해주세요')}\"}\n",
    "    }]}}\n",
    "    return jsonify(response)\n",
    "\n",
    "if __name__ == \"__main__\":\n",
    "    application.run(host='0.0.0.0', port=80, debug=True)"
   ]
  }
 ],
 "metadata": {
  "kernelspec": {
   "display_name": "Python 3",
   "language": "python",
   "name": "python3"
  },
  "language_info": {
   "codemirror_mode": {
    "name": "ipython",
    "version": 3
   },
   "file_extension": ".py",
   "mimetype": "text/x-python",
   "name": "python",
   "nbconvert_exporter": "python",
   "pygments_lexer": "ipython3",
   "version": "3.13.2"
  }
 },
 "nbformat": 4,
 "nbformat_minor": 5
}
