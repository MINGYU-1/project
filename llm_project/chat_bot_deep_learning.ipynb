{
 "cells": [
  {
   "cell_type": "markdown",
   "id": "8ec502eb",
   "metadata": {},
   "source": [
    "### 6.1 빠르게 케라스 정리하기\n",
    "- 케라스: 신경망 모델을 구축할 수 있는 고수준 API 라이브러리\n",
    "### 6.1.1 인공 신경망\n",
    "- 인공신경망은 두뇌의 신경세포인 뉴런을 수학적으로 모방한 모델\n",
    "- 입력 신호를 받아 일정 크기 이상의 신호인지 확인\n",
    "- 이때 임계치를 넘어서면 다른 뉴런으로 신호를 보내는 형태로 구성"
   ]
  },
  {
   "cell_type": "code",
   "execution_count": 1,
   "id": "baf5754a",
   "metadata": {},
   "outputs": [
    {
     "name": "stdout",
     "output_type": "stream",
     "text": [
      "Note: you may need to restart the kernel to use updated packages.\n"
     ]
    }
   ],
   "source": [
    "%pip install -q tensorflow"
   ]
  },
  {
   "cell_type": "code",
   "execution_count": null,
   "id": "c7c089a2",
   "metadata": {},
   "outputs": [
    {
     "name": "stdout",
     "output_type": "stream",
     "text": [
      "Downloading data from https://storage.googleapis.com/tensorflow/tf-keras-datasets/mnist.npz\n",
      "\u001b[1m11490434/11490434\u001b[0m \u001b[32m━━━━━━━━━━━━━━━━━━━━\u001b[0m\u001b[37m\u001b[0m \u001b[1m1s\u001b[0m 0us/step\n"
     ]
    }
   ],
   "source": [
    "import tensorflow as tf\n",
    "import matplotlib.pyplot as plt\n",
    "from tensorflow.keras.datasets import mnist\n",
    "from tensorflow.keras.models import Sequential\n",
    "from tensorflow.keras.layers import Flatten, Dense\n",
    "\n",
    "(x_train,y_train),(x_test,y_test) = mnist.load_data()\n",
    "x_train,x_test = x_train/255.0 , x_test/255.0 # 데이터\n"
   ]
  }
 ],
 "metadata": {
  "kernelspec": {
   "display_name": "Python 3",
   "language": "python",
   "name": "python3"
  },
  "language_info": {
   "codemirror_mode": {
    "name": "ipython",
    "version": 3
   },
   "file_extension": ".py",
   "mimetype": "text/x-python",
   "name": "python",
   "nbconvert_exporter": "python",
   "pygments_lexer": "ipython3",
   "version": "3.13.2"
  }
 },
 "nbformat": 4,
 "nbformat_minor": 5
}
