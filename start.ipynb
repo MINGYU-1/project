{
 "cells": [
  {
   "cell_type": "code",
   "execution_count": 2,
   "id": "74bb40ae",
   "metadata": {},
   "outputs": [
    {
     "name": "stdout",
     "output_type": "stream",
     "text": [
      "Note: you may need to restart the kernel to use updated packages.\n"
     ]
    }
   ],
   "source": [
    "%pip install -q streamlit"
   ]
  },
  {
   "cell_type": "code",
   "execution_count": 3,
   "id": "ac6185f6",
   "metadata": {},
   "outputs": [
    {
     "data": {
      "text/plain": [
       "True"
      ]
     },
     "execution_count": 3,
     "metadata": {},
     "output_type": "execute_result"
    }
   ],
   "source": [
    "\n",
    "\n",
    "## streamlit 관련 모듈 불러오기\n",
    "import streamlit as st\n",
    "from streamlit.runtime.uploaded_file_manager import UploadedFile\n",
    "\n",
    "\n",
    "from langchain_openai import ChatOpenAI, OpenAIEmbeddings\n",
    "from langchain_core.documents.base import Document\n",
    "from langchain.text_splitter import RecursiveCharacterTextSplitter\n",
    "from langchain_community.vectorstores import FAISS\n",
    "from langchain.prompts import PromptTemplate\n",
    "from langchain_core.runnables import Runnable\n",
    "from langchain.schema.output_parser import StrOutputParser\n",
    "from langchain_community.document_loaders import PyMuPDFLoader\n",
    "from typing import List\n",
    "import os\n",
    "import fitz  # PyMuPDF\n",
    "import re\n",
    "\n",
    "## 환경변수 불러오기\n",
    "from dotenv import load_dotenv,dotenv_values\n",
    "load_dotenv()\n",
    "\n"
   ]
  },
  {
   "cell_type": "code",
   "execution_count": 7,
   "id": "108be09e",
   "metadata": {},
   "outputs": [],
   "source": [
    "############################### 1단계 : PDF 문서를 벡터DB에 저장하는 함수들 ##########################\n",
    "\n",
    "## 1: 임시폴더에 파일 저장\n",
    "def save_uploadedfile(uploadedfile: UploadedFile) -> str : \n",
    "    temp_dir = \"PDF_임시폴더\"\n",
    "    if not os.path.exists(temp_dir):\n",
    "        os.makedirs(temp_dir)\n",
    "    file_path = os.path.join(temp_dir, uploadedfile.name)\n",
    "    with open(file_path, \"wb\") as f:\n",
    "        f.write(uploadedfile.read()) \n",
    "    return file_path\n",
    "\n",
    "## 2: 저장된 PDF 파일을 Document로 변환\n",
    "def pdf_to_documents(pdf_path:str) -> List[Document]:\n",
    "    documents = []\n",
    "    loader = PyMuPDFLoader(pdf_path)\n",
    "    doc = loader.load()\n",
    "    for d in doc:\n",
    "        d.metadata['file_path'] = pdf_path\n",
    "    documents.extend(doc)\n",
    "    return documents\n",
    "\n",
    "## 3: Document를 더 작은 document로 변환\n",
    "def chunk_documents(documents: List[Document]) -> List[Document]:\n",
    "    text_splitter = RecursiveCharacterTextSplitter(chunk_size=800, chunk_overlap=100)\n",
    "    return text_splitter.split_documents(documents)\n",
    "\n",
    "## 4: Document를 벡터DB로 저장\n",
    "def save_to_vector_store(documents: List[Document]) -> None:\n",
    "    embeddings = OpenAIEmbeddings(model=\"text-embedding-3-small\")\n",
    "    vector_store = FAISS.from_documents(documents, embedding=embeddings)\n",
    "    vector_store.save_local(\"faiss_index\")\n"
   ]
  },
  {
   "cell_type": "code",
   "execution_count": 8,
   "id": "792f22b9",
   "metadata": {},
   "outputs": [],
   "source": [
    "def main():\n",
    "    pdf_doc = st.file_uploader(\"PDF Uploader\",type = 'pdf')"
   ]
  },
  {
   "cell_type": "code",
   "execution_count": null,
   "id": "6a3d30ef",
   "metadata": {},
   "outputs": [],
   "source": [
    "############################### 2단계 : RAG 기능 구현과 관련된 함수들 ##########################\n",
    "\n",
    "\n",
    "## 사용자 질문에 대한 RAG 처리\n",
    "@st.cache_data\n",
    "def process_question(user_question):\n",
    "\n",
    "\n",
    "    embeddings = OpenAIEmbeddings(model=\"text-embedding-3-small\")\n",
    "    \n",
    "    ## 벡터 DB 호출\n",
    "    new_db = FAISS.load_local(\"faiss_index\", embeddings, allow_dangerous_deserialization=True)\n",
    "\n",
    "    ## 관련 문서 3개를 호출하는 Retriever 생성\n",
    "    retriever = new_db.as_retriever(search_kwargs={\"k\": 3})\n",
    "    ## 사용자 질문을 기반으로 관련문서 3개 검색 \n",
    "    retrieve_docs : List[Document] = retriever.invoke(user_question)\n",
    "\n",
    "    ## RAG 체인 선언\n",
    "    chain = get_rag_chain()\n",
    "    ## 질문과 문맥을 넣어서 체인 결과 호출\n",
    "    response = chain.invoke({\"question\": user_question, \"context\": retrieve_docs})\n",
    "\n",
    "    return response, retrieve_docs\n",
    "\n",
    "\n",
    "\n",
    "def get_rag_chain() -> Runnable:\n",
    "    template = \"\"\"\n",
    "    다음의 컨텍스트를 활용해서 질문에 답변해줘\n",
    "    - 질문에 대한 응답을 해줘\n",
    "    - 간결하게 5줄 이내로 해줘\n",
    "    - 곧바로 응답결과를 말해줘\n",
    "\n",
    "    컨텍스트 : {context}\n",
    "\n",
    "    질문: {question}\n",
    "\n",
    "    응답:\"\"\"\n",
    "\n",
    "    custom_rag_prompt = PromptTemplate.from_template(template)\n",
    "    model = ChatOpenAI(model=\"gpt-4o-mini\")\n",
    "\n",
    "    return custom_rag_prompt | model | StrOutputParser()\n"
   ]
  },
  {
   "cell_type": "code",
   "execution_count": 5,
   "id": "8efb7482",
   "metadata": {},
   "outputs": [
    {
     "name": "stderr",
     "output_type": "stream",
     "text": [
      "2025-09-12 22:56:13.414 WARNING streamlit.runtime.caching.cache_data_api: No runtime found, using MemoryCacheStorageManager\n"
     ]
    }
   ],
   "source": [
    "\n",
    "############################### 2단계 : RAG 기능 구현과 관련된 함수들 ##########################\n",
    "\n",
    "\n",
    "## 사용자 질문에 대한 RAG 처리\n",
    "@st.cache_data\n",
    "def process_question(user_question):\n",
    "\n",
    "\n",
    "    embeddings = OpenAIEmbeddings(model=\"text-embedding-3-small\")\n",
    "    \n",
    "    ## 벡터 DB 호출\n",
    "    new_db = FAISS.load_local(\"faiss_index\", embeddings, allow_dangerous_deserialization=True)\n",
    "\n",
    "    ## 관련 문서 3개를 호출하는 Retriever 생성\n",
    "    retriever = new_db.as_retriever(search_kwargs={\"k\": 3})\n",
    "    ## 사용자 질문을 기반으로 관련문서 3개 검색 \n",
    "    retrieve_docs : List[Document] = retriever.invoke(user_question)\n",
    "\n",
    "    ## RAG 체인 선언\n",
    "    chain = get_rag_chain()\n",
    "    ## 질문과 문맥을 넣어서 체인 결과 호출\n",
    "    response = chain.invoke({\"question\": user_question, \"context\": retrieve_docs})\n",
    "\n",
    "    return response, retrieve_docs\n",
    "\n",
    "\n"
   ]
  },
  {
   "cell_type": "code",
   "execution_count": null,
   "id": "eec84982",
   "metadata": {},
   "outputs": [],
   "source": [
    "\n",
    "\n",
    "\n",
    "def get_rag_chain() -> Runnable:\n",
    "    template = \"\"\"\n",
    "    다음의 컨텍스트를 활용해서 질문에 답변해줘\n",
    "    - 질문에 대한 응답을 해줘\n",
    "    - 간결하게 5줄 이내로 해줘\n",
    "    - 곧바로 응답결과를 말해줘\n",
    "\n",
    "    컨텍스트 : {context}\n",
    "\n",
    "    질문: {question}\n",
    "\n",
    "    응답:\"\"\"\n",
    "\n",
    "    custom_rag_prompt = PromptTemplate.from_template(template)\n",
    "    model = ChatOpenAI(model=\"gpt-4o-mini\")\n",
    "\n",
    "    return custom_rag_prompt | model | StrOutputParser()\n",
    "\n",
    "\n",
    "\n",
    "############################### 3단계 : 응답결과와 문서를 함께 보도록 도와주는 함수 ##########################\n",
    "@st.cache_data(show_spinner=False)\n",
    "def convert_pdf_to_images(pdf_path: str, dpi: int = 250) -> List[str]:\n",
    "    doc = fitz.open(pdf_path)  # 문서 열기\n",
    "    image_paths = []\n",
    "    \n",
    "    # 이미지 저장용 폴더 생성\n",
    "    output_folder = \"PDF_이미지\"\n",
    "    if not os.path.exists(output_folder):\n",
    "        os.makedirs(output_folder)\n",
    "\n",
    "    for page_num in range(len(doc)):  #  각 페이지를 순회\n",
    "        page = doc.load_page(page_num)  # 페이지 로드\n",
    "\n",
    "        zoom = dpi / 72  # 72이 디폴트 DPI\n",
    "        mat = fitz.Matrix(zoom, zoom)\n",
    "        pix = page.get_pixmap(matrix=mat) # type: ignore\n",
    "\n",
    "        image_path = os.path.join(output_folder, f\"page_{page_num + 1}.png\")  # 페이지 이미지 저장 page_1.png, page_2.png, etc.\n",
    "        pix.save(image_path)  # PNG 형태로 저장\n",
    "        image_paths.append(image_path)  # 경로를 저장\n",
    "        \n",
    "    return image_paths\n",
    "\n",
    "def display_pdf_page(image_path: str, page_number: int) -> None:\n",
    "    image_bytes = open(image_path, \"rb\").read()  # 파일에서 이미지 인식\n",
    "    st.image(image_bytes, caption=f\"Page {page_number}\", output_format=\"PNG\", width=600)\n",
    "\n",
    "\n",
    "def natural_sort_key(s):\n",
    "    return [int(text) if text.isdigit() else text for text in re.split(r'(\\d+)', s)]\n",
    "\n",
    "def main():\n",
    "    st.text(dotenv_values(\".env\"))\n",
    "    st.text(\"셋팅완료\")\n",
    "\n",
    "\n",
    "if __name__ == \"__main__\":\n",
    "    main()"
   ]
  }
 ],
 "metadata": {
  "kernelspec": {
   "display_name": "Python 3",
   "language": "python",
   "name": "python3"
  },
  "language_info": {
   "codemirror_mode": {
    "name": "ipython",
    "version": 3
   },
   "file_extension": ".py",
   "mimetype": "text/x-python",
   "name": "python",
   "nbconvert_exporter": "python",
   "pygments_lexer": "ipython3",
   "version": "3.13.2"
  }
 },
 "nbformat": 4,
 "nbformat_minor": 5
}
