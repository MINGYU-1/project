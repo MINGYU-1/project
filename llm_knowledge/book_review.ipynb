{
 "cells": [
  {
   "cell_type": "code",
   "execution_count": 8,
   "id": "0a5bf331",
   "metadata": {},
   "outputs": [
    {
     "data": {
      "text/plain": [
       "True"
      ]
     },
     "execution_count": 8,
     "metadata": {},
     "output_type": "execute_result"
    }
   ],
   "source": [
    "from dotenv import load_dotenv\n",
    "load_dotenv()"
   ]
  },
  {
   "cell_type": "code",
   "execution_count": null,
   "id": "73b3ce0a",
   "metadata": {},
   "outputs": [
    {
     "ename": "LangSmithError",
     "evalue": "Failed to GET /commits/hwchase17/react/latest in LangSmith API. HTTPError('403 Client Error: Forbidden for url: https://api.smith.langchain.com/commits/hwchase17/react/latest', '{\"error\":\"Forbidden\"}\\n')",
     "output_type": "error",
     "traceback": [
      "\u001b[1;31m---------------------------------------------------------------------------\u001b[0m",
      "\u001b[1;31mHTTPError\u001b[0m                                 Traceback (most recent call last)",
      "File \u001b[1;32mc:\\Users\\mingyu\\anaconda3\\Lib\\site-packages\\langsmith\\utils.py:154\u001b[0m, in \u001b[0;36mraise_for_status_with_text\u001b[1;34m(response)\u001b[0m\n\u001b[0;32m    153\u001b[0m \u001b[38;5;28;01mtry\u001b[39;00m:\n\u001b[1;32m--> 154\u001b[0m     response\u001b[38;5;241m.\u001b[39mraise_for_status()\n\u001b[0;32m    155\u001b[0m \u001b[38;5;28;01mexcept\u001b[39;00m requests\u001b[38;5;241m.\u001b[39mHTTPError \u001b[38;5;28;01mas\u001b[39;00m e:\n",
      "File \u001b[1;32mc:\\Users\\mingyu\\anaconda3\\Lib\\site-packages\\requests\\models.py:1026\u001b[0m, in \u001b[0;36mResponse.raise_for_status\u001b[1;34m(self)\u001b[0m\n\u001b[0;32m   1025\u001b[0m \u001b[38;5;28;01mif\u001b[39;00m http_error_msg:\n\u001b[1;32m-> 1026\u001b[0m     \u001b[38;5;28;01mraise\u001b[39;00m HTTPError(http_error_msg, response\u001b[38;5;241m=\u001b[39m\u001b[38;5;28mself\u001b[39m)\n",
      "\u001b[1;31mHTTPError\u001b[0m: 403 Client Error: Forbidden for url: https://api.smith.langchain.com/commits/hwchase17/react/latest",
      "\nThe above exception was the direct cause of the following exception:\n",
      "\u001b[1;31mHTTPError\u001b[0m                                 Traceback (most recent call last)",
      "File \u001b[1;32mc:\\Users\\mingyu\\anaconda3\\Lib\\site-packages\\langsmith\\client.py:937\u001b[0m, in \u001b[0;36mClient.request_with_retries\u001b[1;34m(self, method, pathname, request_kwargs, stop_after_attempt, retry_on, to_ignore, handle_response, _context, **kwargs)\u001b[0m\n\u001b[0;32m    931\u001b[0m     response \u001b[38;5;241m=\u001b[39m \u001b[38;5;28mself\u001b[39m\u001b[38;5;241m.\u001b[39msession\u001b[38;5;241m.\u001b[39mrequest(\n\u001b[0;32m    932\u001b[0m         method,\n\u001b[0;32m    933\u001b[0m         _construct_url(\u001b[38;5;28mself\u001b[39m\u001b[38;5;241m.\u001b[39mapi_url, pathname),\n\u001b[0;32m    934\u001b[0m         stream\u001b[38;5;241m=\u001b[39m\u001b[38;5;28;01mFalse\u001b[39;00m,\n\u001b[0;32m    935\u001b[0m         \u001b[38;5;241m*\u001b[39m\u001b[38;5;241m*\u001b[39mrequest_kwargs,\n\u001b[0;32m    936\u001b[0m     )\n\u001b[1;32m--> 937\u001b[0m ls_utils\u001b[38;5;241m.\u001b[39mraise_for_status_with_text(response)\n\u001b[0;32m    938\u001b[0m \u001b[38;5;28;01mreturn\u001b[39;00m response\n",
      "File \u001b[1;32mc:\\Users\\mingyu\\anaconda3\\Lib\\site-packages\\langsmith\\utils.py:156\u001b[0m, in \u001b[0;36mraise_for_status_with_text\u001b[1;34m(response)\u001b[0m\n\u001b[0;32m    155\u001b[0m \u001b[38;5;28;01mexcept\u001b[39;00m requests\u001b[38;5;241m.\u001b[39mHTTPError \u001b[38;5;28;01mas\u001b[39;00m e:\n\u001b[1;32m--> 156\u001b[0m     \u001b[38;5;28;01mraise\u001b[39;00m requests\u001b[38;5;241m.\u001b[39mHTTPError(\u001b[38;5;28mstr\u001b[39m(e), response\u001b[38;5;241m.\u001b[39mtext) \u001b[38;5;28;01mfrom\u001b[39;00m \u001b[38;5;21;01me\u001b[39;00m  \u001b[38;5;66;03m# type: ignore[call-arg]\u001b[39;00m\n\u001b[0;32m    157\u001b[0m \u001b[38;5;28;01mexcept\u001b[39;00m httpx\u001b[38;5;241m.\u001b[39mHTTPStatusError \u001b[38;5;28;01mas\u001b[39;00m e:\n",
      "\u001b[1;31mHTTPError\u001b[0m: [Errno 403 Client Error: Forbidden for url: https://api.smith.langchain.com/commits/hwchase17/react/latest] {\"error\":\"Forbidden\"}\n",
      "\nDuring handling of the above exception, another exception occurred:\n",
      "\u001b[1;31mLangSmithError\u001b[0m                            Traceback (most recent call last)",
      "Cell \u001b[1;32mIn[9], line 2\u001b[0m\n\u001b[0;32m      1\u001b[0m \u001b[38;5;28;01mfrom\u001b[39;00m \u001b[38;5;21;01mlangchain\u001b[39;00m \u001b[38;5;28;01mimport\u001b[39;00m hub\n\u001b[1;32m----> 2\u001b[0m prompt \u001b[38;5;241m=\u001b[39m hub\u001b[38;5;241m.\u001b[39mpull(\u001b[38;5;124m'\u001b[39m\u001b[38;5;124mhwchase17/react\u001b[39m\u001b[38;5;124m'\u001b[39m,api_key\u001b[38;5;241m=\u001b[39m \u001b[38;5;124m'\u001b[39m\u001b[38;5;124mLangSmith API Key\u001b[39m\u001b[38;5;124m'\u001b[39m)\n\u001b[0;32m      3\u001b[0m \u001b[38;5;28mprint\u001b[39m(prompt)\n",
      "File \u001b[1;32mc:\\Users\\mingyu\\anaconda3\\Lib\\site-packages\\langchain\\hub.py:114\u001b[0m, in \u001b[0;36mpull\u001b[1;34m(owner_repo_commit, include_model, api_url, api_key)\u001b[0m\n\u001b[0;32m    112\u001b[0m \u001b[38;5;66;03m# Then it's langsmith\u001b[39;00m\n\u001b[0;32m    113\u001b[0m \u001b[38;5;28;01mif\u001b[39;00m \u001b[38;5;28mhasattr\u001b[39m(client, \u001b[38;5;124m\"\u001b[39m\u001b[38;5;124mpull_prompt\u001b[39m\u001b[38;5;124m\"\u001b[39m):\n\u001b[1;32m--> 114\u001b[0m     \u001b[38;5;28;01mreturn\u001b[39;00m client\u001b[38;5;241m.\u001b[39mpull_prompt(owner_repo_commit, include_model\u001b[38;5;241m=\u001b[39minclude_model)\n\u001b[0;32m    116\u001b[0m \u001b[38;5;66;03m# Then it's langchainhub\u001b[39;00m\n\u001b[0;32m    117\u001b[0m \u001b[38;5;28;01mif\u001b[39;00m \u001b[38;5;28mhasattr\u001b[39m(client, \u001b[38;5;124m\"\u001b[39m\u001b[38;5;124mpull_repo\u001b[39m\u001b[38;5;124m\"\u001b[39m):\n\u001b[0;32m    118\u001b[0m     \u001b[38;5;66;03m# >= 0.1.15\u001b[39;00m\n",
      "File \u001b[1;32mc:\\Users\\mingyu\\anaconda3\\Lib\\site-packages\\langsmith\\client.py:7580\u001b[0m, in \u001b[0;36mClient.pull_prompt\u001b[1;34m(self, prompt_identifier, include_model)\u001b[0m\n\u001b[0;32m   7576\u001b[0m     \u001b[38;5;129m@contextlib\u001b[39m\u001b[38;5;241m.\u001b[39mcontextmanager\n\u001b[0;32m   7577\u001b[0m     \u001b[38;5;28;01mdef\u001b[39;00m \u001b[38;5;21msuppress_langchain_beta_warning\u001b[39m():\n\u001b[0;32m   7578\u001b[0m         \u001b[38;5;28;01myield\u001b[39;00m\n\u001b[1;32m-> 7580\u001b[0m prompt_object \u001b[38;5;241m=\u001b[39m \u001b[38;5;28mself\u001b[39m\u001b[38;5;241m.\u001b[39mpull_prompt_commit(\n\u001b[0;32m   7581\u001b[0m     prompt_identifier, include_model\u001b[38;5;241m=\u001b[39minclude_model\n\u001b[0;32m   7582\u001b[0m )\n\u001b[0;32m   7583\u001b[0m \u001b[38;5;28;01mwith\u001b[39;00m suppress_langchain_beta_warning():\n\u001b[0;32m   7584\u001b[0m     prompt \u001b[38;5;241m=\u001b[39m loads(json\u001b[38;5;241m.\u001b[39mdumps(prompt_object\u001b[38;5;241m.\u001b[39mmanifest))\n",
      "File \u001b[1;32mc:\\Users\\mingyu\\anaconda3\\Lib\\site-packages\\langsmith\\client.py:7479\u001b[0m, in \u001b[0;36mClient.pull_prompt_commit\u001b[1;34m(self, prompt_identifier, include_model)\u001b[0m\n\u001b[0;32m   7465\u001b[0m \u001b[38;5;250m\u001b[39m\u001b[38;5;124;03m\"\"\"Pull a prompt object from the LangSmith API.\u001b[39;00m\n\u001b[0;32m   7466\u001b[0m \n\u001b[0;32m   7467\u001b[0m \u001b[38;5;124;03mArgs:\u001b[39;00m\n\u001b[1;32m   (...)\u001b[0m\n\u001b[0;32m   7474\u001b[0m \u001b[38;5;124;03m    ValueError: If no commits are found for the prompt.\u001b[39;00m\n\u001b[0;32m   7475\u001b[0m \u001b[38;5;124;03m\"\"\"\u001b[39;00m\n\u001b[0;32m   7476\u001b[0m owner, prompt_name, commit_hash \u001b[38;5;241m=\u001b[39m ls_utils\u001b[38;5;241m.\u001b[39mparse_prompt_identifier(\n\u001b[0;32m   7477\u001b[0m     prompt_identifier\n\u001b[0;32m   7478\u001b[0m )\n\u001b[1;32m-> 7479\u001b[0m response \u001b[38;5;241m=\u001b[39m \u001b[38;5;28mself\u001b[39m\u001b[38;5;241m.\u001b[39mrequest_with_retries(\n\u001b[0;32m   7480\u001b[0m     \u001b[38;5;124m\"\u001b[39m\u001b[38;5;124mGET\u001b[39m\u001b[38;5;124m\"\u001b[39m,\n\u001b[0;32m   7481\u001b[0m     (\n\u001b[0;32m   7482\u001b[0m         \u001b[38;5;124mf\u001b[39m\u001b[38;5;124m\"\u001b[39m\u001b[38;5;124m/commits/\u001b[39m\u001b[38;5;132;01m{\u001b[39;00mowner\u001b[38;5;132;01m}\u001b[39;00m\u001b[38;5;124m/\u001b[39m\u001b[38;5;132;01m{\u001b[39;00mprompt_name\u001b[38;5;132;01m}\u001b[39;00m\u001b[38;5;124m/\u001b[39m\u001b[38;5;132;01m{\u001b[39;00mcommit_hash\u001b[38;5;132;01m}\u001b[39;00m\u001b[38;5;124m\"\u001b[39m\n\u001b[0;32m   7483\u001b[0m         \u001b[38;5;124mf\u001b[39m\u001b[38;5;124m\"\u001b[39m\u001b[38;5;132;01m{\u001b[39;00m\u001b[38;5;124m'\u001b[39m\u001b[38;5;124m?include_model=true\u001b[39m\u001b[38;5;124m'\u001b[39m\u001b[38;5;250m \u001b[39m\u001b[38;5;28;01mif\u001b[39;00m\u001b[38;5;250m \u001b[39minclude_model\u001b[38;5;250m \u001b[39m\u001b[38;5;28;01melse\u001b[39;00m\u001b[38;5;250m \u001b[39m\u001b[38;5;124m'\u001b[39m\u001b[38;5;124m'\u001b[39m\u001b[38;5;132;01m}\u001b[39;00m\u001b[38;5;124m\"\u001b[39m\n\u001b[0;32m   7484\u001b[0m     ),\n\u001b[0;32m   7485\u001b[0m )\n\u001b[0;32m   7486\u001b[0m \u001b[38;5;28;01mreturn\u001b[39;00m ls_schemas\u001b[38;5;241m.\u001b[39mPromptCommit(\n\u001b[0;32m   7487\u001b[0m     \u001b[38;5;241m*\u001b[39m\u001b[38;5;241m*\u001b[39m{\u001b[38;5;124m\"\u001b[39m\u001b[38;5;124mowner\u001b[39m\u001b[38;5;124m\"\u001b[39m: owner, \u001b[38;5;124m\"\u001b[39m\u001b[38;5;124mrepo\u001b[39m\u001b[38;5;124m\"\u001b[39m: prompt_name, \u001b[38;5;241m*\u001b[39m\u001b[38;5;241m*\u001b[39mresponse\u001b[38;5;241m.\u001b[39mjson()}\n\u001b[0;32m   7488\u001b[0m )\n",
      "File \u001b[1;32mc:\\Users\\mingyu\\anaconda3\\Lib\\site-packages\\langsmith\\client.py:997\u001b[0m, in \u001b[0;36mClient.request_with_retries\u001b[1;34m(self, method, pathname, request_kwargs, stop_after_attempt, retry_on, to_ignore, handle_response, _context, **kwargs)\u001b[0m\n\u001b[0;32m    995\u001b[0m     \u001b[38;5;28;01mexcept\u001b[39;00m (\u001b[38;5;167;01mValueError\u001b[39;00m, \u001b[38;5;167;01mKeyError\u001b[39;00m):\n\u001b[0;32m    996\u001b[0m         \u001b[38;5;28;01mpass\u001b[39;00m\n\u001b[1;32m--> 997\u001b[0m     \u001b[38;5;28;01mraise\u001b[39;00m ls_utils\u001b[38;5;241m.\u001b[39mLangSmithError(\n\u001b[0;32m    998\u001b[0m         \u001b[38;5;124mf\u001b[39m\u001b[38;5;124m\"\u001b[39m\u001b[38;5;124mFailed to \u001b[39m\u001b[38;5;132;01m{\u001b[39;00mmethod\u001b[38;5;132;01m}\u001b[39;00m\u001b[38;5;124m \u001b[39m\u001b[38;5;132;01m{\u001b[39;00mpathname\u001b[38;5;132;01m}\u001b[39;00m\u001b[38;5;124m in LangSmith\u001b[39m\u001b[38;5;124m\"\u001b[39m\n\u001b[0;32m    999\u001b[0m         \u001b[38;5;124mf\u001b[39m\u001b[38;5;124m\"\u001b[39m\u001b[38;5;124m API. \u001b[39m\u001b[38;5;132;01m{\u001b[39;00m\u001b[38;5;28mrepr\u001b[39m(e)\u001b[38;5;132;01m}\u001b[39;00m\u001b[38;5;124m\"\u001b[39m\n\u001b[0;32m   1000\u001b[0m     )\n\u001b[0;32m   1001\u001b[0m \u001b[38;5;28;01melse\u001b[39;00m:\n\u001b[0;32m   1002\u001b[0m     \u001b[38;5;28;01mraise\u001b[39;00m ls_utils\u001b[38;5;241m.\u001b[39mLangSmithError(\n\u001b[0;32m   1003\u001b[0m         \u001b[38;5;124mf\u001b[39m\u001b[38;5;124m\"\u001b[39m\u001b[38;5;124mFailed to \u001b[39m\u001b[38;5;132;01m{\u001b[39;00mmethod\u001b[38;5;132;01m}\u001b[39;00m\u001b[38;5;124m \u001b[39m\u001b[38;5;132;01m{\u001b[39;00mpathname\u001b[38;5;132;01m}\u001b[39;00m\u001b[38;5;124m in LangSmith\u001b[39m\u001b[38;5;124m\"\u001b[39m\n\u001b[0;32m   1004\u001b[0m         \u001b[38;5;124mf\u001b[39m\u001b[38;5;124m\"\u001b[39m\u001b[38;5;124m API. \u001b[39m\u001b[38;5;132;01m{\u001b[39;00m\u001b[38;5;28mrepr\u001b[39m(e)\u001b[38;5;132;01m}\u001b[39;00m\u001b[38;5;124m\"\u001b[39m\n\u001b[0;32m   1005\u001b[0m     )\n",
      "\u001b[1;31mLangSmithError\u001b[0m: Failed to GET /commits/hwchase17/react/latest in LangSmith API. HTTPError('403 Client Error: Forbidden for url: https://api.smith.langchain.com/commits/hwchase17/react/latest', '{\"error\":\"Forbidden\"}\\n')"
     ]
    }
   ],
   "source": [
    "from langchain import hub\n",
    "prompt = hub.pull('hwchase17/react',api_key= 'LangSmith API Key')\n",
    "print(prompt)\n"
   ]
  },
  {
   "cell_type": "code",
   "execution_count": 18,
   "id": "3167bf78",
   "metadata": {},
   "outputs": [
    {
     "name": "stdout",
     "output_type": "stream",
     "text": [
      "첫 번째 실행결과:\n",
      "\n",
      "\n",
      "\u001b[1m> Entering new AgentExecutor chain...\u001b[0m\n",
      "\u001b[32;1m\u001b[1;3m I don't have knowledge about AI agents.\n",
      "Action: Search\n",
      "Action Input: AI agent research trends\u001b[0m\u001b[36;1m\u001b[1;3m['For 2025, the dominant innovation narrative is the AI agent. But what can we realistically expect from agentic AI in 2025, and how will it affect our lives?', \"Explore PwC's new survey on AI agents and their impact on enterprise strategy, automation and future-ready operations across industries.\", 'Autonomous analytics agents monitor product and support behavior, detect emerging trends, and flag improvement opportunities in real time.', 'Nearly 90% of notable AI models in 2024 came from industry, up from 60% in 2023, while academia remains the top source of highly cited research. Model scale ...', '5. AI Agents Are Taking Over · AI will shift from being a passive tool to an active assistant capable of handling complex tasks on its own.', 'AI agents mark a major evolution in enterprise AI—extending gen AI from reactive content generation to autonomous, goal-driven execution. Agents ...', 'From Assistants to Autonomous Agents: The big story of early 2025 is AI systems moving from knowledge assistants to autonomous decision-makers.', '1. Towards autonomous, self-healing data pipelines · 2. Tooling over process · 3. Vertical AI agents in specialized industries · 4. Integration of ...', 'In 2024, AI agents are no longer a niche interest. Companies across industries are getting more serious about incorporating agents into their workflows - from ...']\u001b[0m\u001b[32;1m\u001b[1;3mI now know the final answer\n",
      "Final Answer: The latest research trend for AI agents is focused on autonomous, goal-driven execution and the integration of AI agents into various industries for specialized tasks.\u001b[0m\n",
      "\n",
      "\u001b[1m> Finished chain.\u001b[0m\n"
     ]
    },
    {
     "data": {
      "text/plain": [
       "{'input': '현재 인공지능 에이전트의 최신 연구동향은 무엇인가?',\n",
       " 'output': 'The latest research trend for AI agents is focused on autonomous, goal-driven execution and the integration of AI agents into various industries for specialized tasks.'}"
      ]
     },
     "execution_count": 18,
     "metadata": {},
     "output_type": "execute_result"
    }
   ],
   "source": [
    "from langchain_openai import OpenAI\n",
    "from langchain_community.utilities import SerpAPIWrapper\n",
    "from langchain.tools import Tool\n",
    "from langchain.agents import create_react_agent\n",
    "from langchain import hub\n",
    "prompt = hub.pull('hwchase17/react')\n",
    "\n",
    "llm = OpenAI()\n",
    "search = SerpAPIWrapper()\n",
    "tools = [\n",
    "    Tool(\n",
    "        name = 'Search',\n",
    "        func = search.run,\n",
    "        description = 'LLM이 관련 지식이 없을 때 지식 검색에 사용됩니다.'\n",
    "    ),\n",
    "]\n",
    "agent = create_react_agent(llm,tools,prompt)\n",
    "\n",
    "# agentexecutor 가져오기\n",
    "from langchain.agents import AgentExecutor\n",
    "agent_executor = AgentExecutor(agent=agent, tools = tools, verbose=True)\n",
    "print('첫 번째 실행결과:')\n",
    "agent_executor.invoke({'input':'현재 인공지능 에이전트의 최신 연구동향은 무엇인가?'})"
   ]
  },
  {
   "cell_type": "markdown",
   "id": "2380363f",
   "metadata": {},
   "source": [
    "## ReAct 기반 체계 기반의 프롬프트\n",
    "### 모델의 출력 품질은 제공된 입력 정보의 품질 및 구조와 밀접하게 관련되어 있다. 먼저 이 코드가 어떻게 프롬프트를 가져오는지 살펴본다. "
   ]
  },
  {
   "cell_type": "code",
   "execution_count": null,
   "id": "55a14eb7",
   "metadata": {},
   "outputs": [],
   "source": []
  }
 ],
 "metadata": {
  "kernelspec": {
   "display_name": "base",
   "language": "python",
   "name": "python3"
  },
  "language_info": {
   "codemirror_mode": {
    "name": "ipython",
    "version": 3
   },
   "file_extension": ".py",
   "mimetype": "text/x-python",
   "name": "python",
   "nbconvert_exporter": "python",
   "pygments_lexer": "ipython3",
   "version": "3.12.7"
  }
 },
 "nbformat": 4,
 "nbformat_minor": 5
}
