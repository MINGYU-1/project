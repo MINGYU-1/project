{
 "cells": [
  {
   "cell_type": "code",
   "execution_count": 12,
   "id": "0a5bf331",
   "metadata": {},
   "outputs": [
    {
     "data": {
      "text/plain": [
       "True"
      ]
     },
     "execution_count": 12,
     "metadata": {},
     "output_type": "execute_result"
    }
   ],
   "source": [
    "from dotenv import load_dotenv\n",
    "load_dotenv()"
   ]
  },
  {
   "cell_type": "code",
   "execution_count": 13,
   "id": "3167bf78",
   "metadata": {},
   "outputs": [
    {
     "name": "stdout",
     "output_type": "stream",
     "text": [
      "첫 번째 실행결과:\n",
      "\n",
      "\n",
      "\u001b[1m> Entering new AgentExecutor chain...\u001b[0m\n",
      "\u001b[32;1m\u001b[1;3m 최신 연구동향에 대해 궁금하면, 검색을 통해 알아보는 것이 유용할 것 같다.\n",
      "Action: Search\n",
      "Action Input: \"최신 인공지능 연구\"\u001b[0m\u001b[36;1m\u001b[1;3m['이 글에서는 AI타임스, 인공지능신문부터 MIT Technology Review, DeepMind Blog까지 국내외 주요 AI 정보 허브를 소개합니다. AI 기술 동향, 산업 분석, ...', '2025년에 주목해야 할 10가지 인공 지능 트렌드 · 1) AI 에이전트 · 2) 초개인화 · 3) AI ROI 측정 · 4) 생성형 AI 보안 제품 · 5) 양자 AI · 6) 대화형 AI · 7) ...', '인공지능 분야의 최신 연구 동향은 현재 기술이 나아가고 있는 방향과 발전 속도를 이해하는 데 핵심적인 역할을 합니다. 이 보고서에서는 인공지능의 ...', '1. 제 목 : 2024년 국내외 인공지능 산업 동향 연구 · 2. 연구 배경 및 목적; ㅇ 생성AI 기술의 부상으로 인공지능 산업 생태계가 빠르게 변화 · 3. 연구의 ...', '최근에는 다양한 데이터 유형을 동시에 이해하고 통합 처리하는 멀티모달 AI가 속속 등장하고 있습니다. 일례로 오픈 AI의 GPT-4는 텍스트뿐만 아니라 ...', \"Google에서 혁신적인 Machine Learning(ML) 모델인 'Google Mind'를 발표했습니다. 이 모델은 인간의 뇌를 닮은 구조와 기능을 가지고 있으며, 인공 지능 ...\", '일정한 수준에서 AI는 자체 알고리즘을 개발하여 문제를 해결하고, 효율성을 증대하고 인간에게 유용한 연구 데이터를 제공할 수 있습니다. 자동화된 AI를 사용하면 ...', '토픽 모델링으로 살펴본 인공지능(AI) 논문의 연구 주제 살펴보기 · 인공지능(AI) 관련 논문에서 사용된 키워드 간의 연결 관계 살펴보기 · AI 어시스턴트로 ...', '최신 인공지능 기술동향. State of AI 2022 번역 오프라인 강화학습 기술동향 (박준영) 🖼️이미지 생성모델(GAN) 최신기술동향 (강민국) 인공지능 가상데이터 셋 생성 ...']\u001b[0m\u001b[32;1m\u001b[1;3m 최신 연구동향 정보를 확인하였으니, 재미있는 소식도 있을까 싶어서 추가 검색을 해볼까?\n",
      "Action: Search\n",
      "Action Input: \"인공지능 새로운 소식\"\u001b[0m\u001b[36;1m\u001b[1;3m[\"美 SMR 혁신 스타트업 '딥 피션', 기업 공개 거래로 3000만 달러 조달 완료 인공지능(AI) 기술이 발전하면서, AI 데이터센터의 전력 소모량이 기하급수적으로 증가하고 ...\", 'AI는 기존에 학습한 엄청난 양의 데이터를 바탕으로 사용자가 원하는 답을 내놨다. 이제는 스스로 데이터를 만들어 학습하고, 인간처럼 논리적으로 추론하는 수준까지 발전 ...', \"MS, 오픈AI 의존 벗어나 '코파일럿'에 앤트로픽 모델 도입 · 오픈AI “국내 B2C 이어 B2B도 성공적...기업·정부 등과 전방위 협력” · SKT “독자 AI 파운데이션 모델 1차 평가.\", '인공지능 (AI) ; 영화와 TV 프로그램의 언어 더빙을 완전히 바꿔놓을 인공지능 기술. 2025년 8월 17일 ; 엔비디아와 AMD, 중국 매출의 15% 미국 정부에 낼 예정. 2025년 8월 ...', 'AI News는 인공지능 분야의 최신 뉴스와 분석을 제공하는 전문 뉴스 사이트입니다. 기업의 AI 도입 사례, 새로운 AI 기술 개발, AI 정책 및 규제 동향 등 ...', '지금부터 2034년까지 AI는 개인 및 비즈니스 생활의 여러 측면에서 고정적인 요소로 자리 잡을 것입니다. 향후 10년 동안 보게 될 AI의 발전은 다음과 같습니다.', '이슈. 인공지능(AI) 열풍. JYP, AI 아티스트 만든다…\"글로벌 엔터테인먼트 새 미래 열 것\" 2025.09.03 13:56. 동영상 기사. [자막뉴스] 원숭이가 코끼리 등에 타더니…', '새해의 멀티모달 AI는 촉각이나 생체 신호 등 새로운 모달을 포함할 것으로 전망됩니다. 현재 시중에 나온 멀티모달 AI들의 고도화도 예견되고 있고요.', '인공지능의 최신 트렌드 · 1. 지능형 프로세스 자동화 · 2. 사이버 보안으로의 이동 · 3. 개인 맞춤형 서비스를 위한 AI · 4. 자동화된 AI 개발 · 5. 자율주행차 · 6. 안면 인식 ...']\u001b[0m\u001b[32;1m\u001b[1;3m 검색 결과가 흥미롭고 다양한 AI 소식으로 가득 차 있어서 매우 유익한 시간이었다.\n",
      "Final Answer: 현재 인공지능 에이전트의 최신 연구동향은 다양한 분야에서 발전하고 있으며, 새로운 소식들도 매우 흥미로운 것으로 보인다. \u001b[0m\n",
      "\n",
      "\u001b[1m> Finished chain.\u001b[0m\n"
     ]
    },
    {
     "data": {
      "text/plain": [
       "{'input': '현재 인공지능 에이전트의 최신 연구동향은 무엇인가?',\n",
       " 'output': '현재 인공지능 에이전트의 최신 연구동향은 다양한 분야에서 발전하고 있으며, 새로운 소식들도 매우 흥미로운 것으로 보인다.'}"
      ]
     },
     "execution_count": 13,
     "metadata": {},
     "output_type": "execute_result"
    }
   ],
   "source": [
    "from langchain_openai import OpenAI\n",
    "from langchain_community.utilities import SerpAPIWrapper\n",
    "from langchain.tools import Tool\n",
    "from langchain.agents import create_react_agent\n",
    "from langchain import hub\n",
    "prompt = hub.pull('hwchase17/react')\n",
    "\n",
    "llm = OpenAI()\n",
    "search = SerpAPIWrapper()\n",
    "tools = [\n",
    "    Tool(\n",
    "        name = 'Search',\n",
    "        func = search.run,\n",
    "        description = 'LLM이 관련 지식이 없을 때 지식 검색에 사용됩니다.'\n",
    "    ),\n",
    "]\n",
    "agent = create_react_agent(llm,tools,prompt)\n",
    "\n",
    "# agentexecutor 가져오기\n",
    "from langchain.agents import AgentExecutor\n",
    "agent_executor = AgentExecutor(agent=agent, tools = tools, verbose=True)\n",
    "print('첫 번째 실행결과:')\n",
    "agent_executor.invoke({'input':'현재 인공지능 에이전트의 최신 연구동향은 무엇인가?'})"
   ]
  },
  {
   "cell_type": "markdown",
   "id": "2380363f",
   "metadata": {},
   "source": [
    "## ReAct 기반 체계 기반의 프롬프트\n",
    "### 모델의 출력 품질은 제공된 입력 정보의 품질 및 구조와 밀접하게 관련되어 있다. 먼저 이 코드가 어떻게 프롬프트를 가져오는지 살펴본다. "
   ]
  },
  {
   "cell_type": "code",
   "execution_count": 14,
   "id": "55a14eb7",
   "metadata": {},
   "outputs": [
    {
     "name": "stdout",
     "output_type": "stream",
     "text": [
      "Answer the following questions as best you can. You have access to the following tools:\n",
      "\n",
      "\u001b[33;1m\u001b[1;3m{tools}\u001b[0m\n",
      "\n",
      "Use the following format:\n",
      "\n",
      "Question: the input question you must answer\n",
      "Thought: you should always think about what to do\n",
      "Action: the action to take, should be one of [\u001b[33;1m\u001b[1;3m{tool_names}\u001b[0m]\n",
      "Action Input: the input to the action\n",
      "Observation: the result of the action\n",
      "... (this Thought/Action/Action Input/Observation can repeat N times)\n",
      "Thought: I now know the final answer\n",
      "Final Answer: the final answer to the original input question\n",
      "\n",
      "Begin!\n",
      "\n",
      "Question: \u001b[33;1m\u001b[1;3m{input}\u001b[0m\n",
      "Thought:\u001b[33;1m\u001b[1;3m{agent_scratchpad}\u001b[0m\n"
     ]
    }
   ],
   "source": [
    "# LangChain Hub 가져오기\n",
    "from langchain import hub\n",
    "from pprint import pprint\n",
    "# LangChain Hub에서 ReAct의 프롬프트 가져오기\n",
    "prompt = hub.pull('hwchase17/react')\n",
    "prompt.pretty_print()"
   ]
  },
  {
   "cell_type": "markdown",
   "id": "6cf7b9ed",
   "metadata": {},
   "source": [
    "### LLM 인스턴스 생성\n",
    "- 에이전트를 구축하려면 먼저 에이전트의 추론 엔진 역할을 하는 LLM의 인스턴스를 생성"
   ]
  },
  {
   "cell_type": "code",
   "execution_count": 17,
   "id": "29d1aba5",
   "metadata": {},
   "outputs": [],
   "source": [
    "#OpenAI 가져오기\n",
    "from langchain_openai import OpenAI\n",
    "llm = OpenAI()"
   ]
  },
  {
   "cell_type": "markdown",
   "id": "27457491",
   "metadata": {},
   "source": [
    "### 검색 도구 정의\n",
    "- 앞에서 LLM 인스턴스를 설정, 검색 도구 한가지만 사용하도록 구성"
   ]
  },
  {
   "cell_type": "code",
   "execution_count": 18,
   "id": "e403ec76",
   "metadata": {},
   "outputs": [],
   "source": [
    "from langchain_community.utilities import SerpAPIWrapper\n",
    "from langchain.tools import Tool\n",
    "#SerpAPIWrapper 인스턴스화\n",
    "search = SerpAPIWrapper()\n",
    "tools = [\n",
    "    Tool(\n",
    "        name = 'Search',\n",
    "        func = search.run,\n",
    "        description = 'LLM이 관련 지시깅 없을 때 지식 검색에 사용됩니다.'\n",
    "    ),\n",
    "]\n",
    "#위의 코드에서 SerpAPIWrapper는 SerpApi와의 상호작용을 감싸는 wrapepr"
   ]
  },
  {
   "cell_type": "code",
   "execution_count": 19,
   "id": "87ec7906",
   "metadata": {},
   "outputs": [],
   "source": [
    "from langchain.agents import create_react_agent\n",
    "\n",
    "agent = create_react_agent(llm,tools,prompt)"
   ]
  }
 ],
 "metadata": {
  "kernelspec": {
   "display_name": "base",
   "language": "python",
   "name": "python3"
  },
  "language_info": {
   "codemirror_mode": {
    "name": "ipython",
    "version": 3
   },
   "file_extension": ".py",
   "mimetype": "text/x-python",
   "name": "python",
   "nbconvert_exporter": "python",
   "pygments_lexer": "ipython3",
   "version": "3.12.7"
  }
 },
 "nbformat": 4,
 "nbformat_minor": 5
}
