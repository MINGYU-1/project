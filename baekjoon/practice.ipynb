{
 "cells": [
  {
   "cell_type": "markdown",
   "id": "61883155",
   "metadata": {},
   "source": [
    "## 7568번\n",
    "- 덩치문제"
   ]
  },
  {
   "cell_type": "code",
   "execution_count": null,
   "id": "8c22492e",
   "metadata": {},
   "outputs": [],
   "source": [
    "#"
   ]
  }
 ],
 "metadata": {
  "language_info": {
   "name": "python"
  }
 },
 "nbformat": 4,
 "nbformat_minor": 5
}
